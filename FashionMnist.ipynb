{
  "nbformat": 4,
  "nbformat_minor": 0,
  "metadata": {
    "colab": {
      "name": "FashionMnist.ipynb",
      "provenance": [],
      "collapsed_sections": [],
      "authorship_tag": "ABX9TyP0fH5HiuYNFsua3it/uKZG",
      "include_colab_link": true
    },
    "kernelspec": {
      "name": "python3",
      "display_name": "Python 3"
    }
  },
  "cells": [
    {
      "cell_type": "markdown",
      "metadata": {
        "id": "view-in-github",
        "colab_type": "text"
      },
      "source": [
        "<a href=\"https://colab.research.google.com/github/christ002/FashMNIST/blob/master/FashionMnist.ipynb\" target=\"_parent\"><img src=\"https://colab.research.google.com/assets/colab-badge.svg\" alt=\"Open In Colab\"/></a>"
      ]
    },
    {
      "cell_type": "code",
      "metadata": {
        "id": "rTLt2T_MeqZb",
        "colab_type": "code",
        "colab": {}
      },
      "source": [
        "import torch\n",
        "import torchvision\n",
        "import torchvision.transforms as transforms\n",
        "import torch.nn as nn\n",
        "import torch.nn.functional as F\n",
        "import torch.optim as optim\n",
        "import numpy as np\n",
        "import matplotlib.pyplot as plt\n",
        "import time\n",
        "from torch.autograd import Variable\n",
        "from sklearn.metrics import confusion_matrix\n",
        "import sklearn.metrics as metrics\n",
        "from itertools import chain "
      ],
      "execution_count": 0,
      "outputs": []
    },
    {
      "cell_type": "code",
      "metadata": {
        "id": "bNJmpLADewce",
        "colab_type": "code",
        "colab": {}
      },
      "source": [
        "BATCH_SIZE = 50\n",
        "# With a batch size of 50, our total number of batches will be 1200.\n",
        "\n",
        "#Defining the transforms\n",
        "transform = transforms.Compose([transforms.ToTensor()])\n",
        "\n",
        "# Download and load training and testing dataset\n",
        "train_dataset = torchvision.datasets.FashionMNIST(root='./data', train=True,\n",
        "                                        download=True, transform=transform)\n",
        "\n",
        "train_loader = torch.utils.data.DataLoader(train_dataset, batch_size=BATCH_SIZE,\n",
        "                                          shuffle=True, num_workers=10)\n",
        "\n",
        "# Download and load testing dataset\n",
        "test_dataset = torchvision.datasets.FashionMNIST(root='./data', train=False,\n",
        "                                       download=True, transform=transform)\n",
        "test_loader = torch.utils.data.DataLoader(test_dataset, batch_size=BATCH_SIZE,\n",
        "                                         shuffle=False, num_workers=10)"
      ],
      "execution_count": 0,
      "outputs": []
    },
    {
      "cell_type": "code",
      "metadata": {
        "id": "iC0Lk-iXewmU",
        "colab_type": "code",
        "colab": {}
      },
      "source": [
        "# Creating a class for the hyper parameters will make life easier when tuning the model \n",
        "class HypParam:\n",
        "    inputs = 64*5*5\n",
        "    hidden_layer1 = 128\n",
        "    hidden_layer2 = 64\n",
        "    hidden_layer3 = 32\n",
        "    outputs = 10\n",
        "    learning_rate = 0.01\n",
        "    num_epochs = 5"
      ],
      "execution_count": 0,
      "outputs": []
    },
    {
      "cell_type": "code",
      "metadata": {
        "id": "aYmt7e0U0a5R",
        "colab_type": "code",
        "colab": {}
      },
      "source": [
        "# Network architecture\n",
        "class CNN(nn.Module):\n",
        "    def __init__(self):\n",
        "        super(CNN, self).__init__()\n",
        "        self.layer1 = nn.Sequential(\n",
        "            nn.Conv2d(1, 16, kernel_size=3, padding=2),\n",
        "            nn.BatchNorm2d(16),\n",
        "            nn.ReLU(),\n",
        "            nn.MaxPool2d(2))\n",
        "        self.layer2 = nn.Sequential(\n",
        "            nn.Conv2d(16, 32, kernel_size=3, padding=2),\n",
        "            nn.BatchNorm2d(32),\n",
        "            nn.ReLU(),\n",
        "            nn.MaxPool2d(2))\n",
        "        self.layer3 = nn.Sequential(\n",
        "            nn.Conv2d(32, 64, kernel_size=3, padding=2),\n",
        "            nn.BatchNorm2d(64),\n",
        "            nn.ReLU(),\n",
        "            nn.MaxPool2d(2))\n",
        "        self.fc = nn.Linear(HypParam.inputs, HypParam.hidden_layer1)\n",
        "        self.fc1 = nn.Linear(HypParam.hidden_layer1, HypParam.hidden_layer2)\n",
        "        self.fc2 = nn.Linear(HypParam.hidden_layer2, HypParam.outputs)\n",
        "        \n",
        "    def forward(self, x):\n",
        "        out = self.layer1(x)\n",
        "        out = self.layer2(out)\n",
        "        out = self.layer3(out)\n",
        "        out = out.view(out.size(0), -1)\n",
        "        out = self.fc(out)\n",
        "        out = self.fc1(out)\n",
        "        out = self.fc2(out)\n",
        "        return out"
      ],
      "execution_count": 0,
      "outputs": []
    },
    {
      "cell_type": "code",
      "metadata": {
        "id": "xwDHFpMNJ6Ea",
        "colab_type": "code",
        "colab": {}
      },
      "source": [
        "# If GPU is available, select GPU\n",
        "device = torch.device('cuda:0' if torch.cuda.is_available() else 'cpu')"
      ],
      "execution_count": 0,
      "outputs": []
    },
    {
      "cell_type": "code",
      "metadata": {
        "id": "F92m6uts6sRf",
        "colab_type": "code",
        "colab": {}
      },
      "source": [
        "# Instantiating\n",
        "Model_cnn = CNN()\n",
        "Model_cnn.to(device)\n",
        "# Optimizer and loss function\n",
        "criterion = nn.CrossEntropyLoss()\n",
        "optimizer = optim.Adagrad(Model_cnn.parameters(), lr=HypParam.learning_rate)"
      ],
      "execution_count": 0,
      "outputs": []
    },
    {
      "cell_type": "code",
      "metadata": {
        "id": "XO-SHGQq6sd-",
        "colab_type": "code",
        "colab": {
          "base_uri": "https://localhost:8080/",
          "height": 221
        },
        "outputId": "545929cd-053b-4308-ffdf-99bef509ed8e"
      },
      "source": [
        "count = 0\n",
        "\n",
        "loss_lst = []\n",
        "iter_lst = []\n",
        "acc_lst = []\n",
        "\n",
        "pred_lst = []\n",
        "labels_lst = []\n",
        "\n",
        "for epoch in range(HypParam.num_epochs):\n",
        "    for images, labels in train_loader:\n",
        "        # Transfering images and labels to GPU if available\n",
        "        images, labels = images.to(device), labels.to(device)\n",
        "    \n",
        "        train = Variable(images.view(BATCH_SIZE, 1, 28, 28))\n",
        "        labels = Variable(labels)\n",
        "        \n",
        "        # Forward pass \n",
        "        outputs = Model_cnn(train)\n",
        "        loss = criterion(outputs, labels)\n",
        "        \n",
        "        optimizer.zero_grad()\n",
        "        \n",
        "        # Propagate backwards\n",
        "        loss.backward()\n",
        "        \n",
        "        optimizer.step()\n",
        "    \n",
        "        count += 1\n",
        "    \n",
        "    # Testing the model\n",
        "    \n",
        "        if not(count%50):    \n",
        "            total = 0\n",
        "            correct = 0\n",
        "        \n",
        "            for images, labels in test_loader:\n",
        "                images, labels = images.to(device), labels.to(device)\n",
        "                labels_lst.append(labels)\n",
        "            \n",
        "                test = Variable(images.view(BATCH_SIZE, 1, 28, 28))\n",
        "            \n",
        "                outputs = Model_cnn(test)\n",
        "            \n",
        "                predictions = torch.max(outputs, 1)[1].to(device)\n",
        "                pred_lst.append(predictions)\n",
        "                correct += (predictions == labels).sum()\n",
        "            \n",
        "                total += len(labels)\n",
        "            \n",
        "            accuracy = correct * 100 / total\n",
        "            loss_lst.append(loss.data)\n",
        "            iter_lst.append(count)\n",
        "            acc_lst.append(accuracy)\n",
        "        \n",
        "        if not (count % 500):\n",
        "            print('Iteration: %0.3f, Loss: %0.3f, Test Acc: %d'\n",
        "            % (count, loss.data, accuracy))\n",
        "            "
      ],
      "execution_count": 15,
      "outputs": [
        {
          "output_type": "stream",
          "text": [
            "Iteration: 500.000, Loss: 0.272, Test Acc: 85\n",
            "Iteration: 1000.000, Loss: 0.195, Test Acc: 87\n",
            "Iteration: 1500.000, Loss: 0.253, Test Acc: 88\n",
            "Iteration: 2000.000, Loss: 0.174, Test Acc: 89\n",
            "Iteration: 2500.000, Loss: 0.233, Test Acc: 89\n",
            "Iteration: 3000.000, Loss: 0.291, Test Acc: 89\n",
            "Iteration: 3500.000, Loss: 0.236, Test Acc: 89\n",
            "Iteration: 4000.000, Loss: 0.216, Test Acc: 90\n",
            "Iteration: 4500.000, Loss: 0.246, Test Acc: 90\n",
            "Iteration: 5000.000, Loss: 0.205, Test Acc: 90\n",
            "Iteration: 5500.000, Loss: 0.149, Test Acc: 90\n",
            "Iteration: 6000.000, Loss: 0.193, Test Acc: 90\n"
          ],
          "name": "stdout"
        }
      ]
    },
    {
      "cell_type": "code",
      "metadata": {
        "id": "CbeXvKu4UUBe",
        "colab_type": "code",
        "colab": {
          "base_uri": "https://localhost:8080/",
          "height": 295
        },
        "outputId": "b948390e-1e06-4954-b830-781618a822b8"
      },
      "source": [
        "# Visualizing\n",
        "\n",
        "plt.plot(iter_lst, loss_lst)\n",
        "plt.xlabel(\"No. of Iteration\")\n",
        "plt.ylabel(\"Loss\")\n",
        "plt.title(\"Iterations vs Loss\")\n",
        "plt.show()"
      ],
      "execution_count": 16,
      "outputs": [
        {
          "output_type": "display_data",
          "data": {
            "image/png": "[encoded data removed]",
            "text/plain": [
              "<Figure size 432x288 with 1 Axes>"
            ]
          },
          "metadata": {
            "tags": []
          }
        }
      ]
    },
    {
      "cell_type": "code",
      "metadata": {
        "id": "dva_DjbdUbJf",
        "colab_type": "code",
        "colab": {
          "base_uri": "https://localhost:8080/",
          "height": 295
        },
        "outputId": "281bc0f1-117f-49ed-b80e-20d1291dba5c"
      },
      "source": [
        "plt.plot(iter_lst, acc_lst)\n",
        "plt.xlabel(\"No. of Iteration\")\n",
        "plt.ylabel(\"Accuracy\")\n",
        "plt.title(\"Iterations vs Accuracy\")\n",
        "plt.show()"
      ],
      "execution_count": 17,
      "outputs": [
        {
          "output_type": "display_data",
          "data": {
            "image/png": "[encoded data removed]",
            "text/plain": [
              "<Figure size 432x288 with 1 Axes>"
            ]
          },
          "metadata": {
            "tags": []
          }
        }
      ]
    },
    {
      "cell_type": "code",
      "metadata": {
        "id": "TNGP3hBzUilj",
        "colab_type": "code",
        "colab": {}
      },
      "source": [
        "preds_l = [pred_lst[i].tolist() for i in range(len(pred_lst))]\n",
        "labels_l = [labels_lst[i].tolist() for i in range(len(labels_lst))]\n",
        "preds_l = list(chain.from_iterable(preds_l))\n",
        "labels_l = list(chain.from_iterable(labels_l))"
      ],
      "execution_count": 0,
      "outputs": []
    },
    {
      "cell_type": "code",
      "metadata": {
        "id": "zs4gf3whUslx",
        "colab_type": "code",
        "colab": {
          "base_uri": "https://localhost:8080/",
          "height": 340
        },
        "outputId": "96bec721-e918-40f0-9069-7dbc9c06ee5d"
      },
      "source": [
        "confusion_matrix(labels_l, preds_l)\n",
        "print(\"Classification report for CNN :\\n%s\\n\"\n",
        "      % (metrics.classification_report(labels_l, preds_l)))"
      ],
      "execution_count": 19,
      "outputs": [
        {
          "output_type": "stream",
          "text": [
            "Classification report for CNN :\n",
            "              precision    recall  f1-score   support\n",
            "\n",
            "           0       0.83      0.84      0.84    120000\n",
            "           1       0.99      0.98      0.98    120000\n",
            "           2       0.82      0.82      0.82    120000\n",
            "           3       0.87      0.90      0.89    120000\n",
            "           4       0.80      0.81      0.81    120000\n",
            "           5       0.97      0.97      0.97    120000\n",
            "           6       0.70      0.66      0.68    120000\n",
            "           7       0.94      0.95      0.95    120000\n",
            "           8       0.97      0.97      0.97    120000\n",
            "           9       0.96      0.96      0.96    120000\n",
            "\n",
            "    accuracy                           0.89   1200000\n",
            "   macro avg       0.88      0.89      0.88   1200000\n",
            "weighted avg       0.88      0.89      0.88   1200000\n",
            "\n",
            "\n"
          ],
          "name": "stdout"
        }
      ]
    },
    {
      "cell_type": "code",
      "metadata": {
        "id": "oxmzqy02b5hl",
        "colab_type": "code",
        "colab": {}
      },
      "source": [
        "torch.save(Model_cnn.state_dict(), 'checkpoint.pth')"
      ],
      "execution_count": 0,
      "outputs": []
    },
    {
      "cell_type": "code",
      "metadata": {
        "id": "HH7n9w15eY20",
        "colab_type": "code",
        "colab": {
          "base_uri": "https://localhost:8080/",
          "height": 408
        },
        "outputId": "7243196d-6537-4525-aa99-755d4506b5d7"
      },
      "source": [
        "Model_cnn.load_state_dict(torch.load('checkpoint.pth'))\n",
        "Model_cnn.eval()"
      ],
      "execution_count": 21,
      "outputs": [
        {
          "output_type": "execute_result",
          "data": {
            "text/plain": [
              "CNN(\n",
              "  (layer1): Sequential(\n",
              "    (0): Conv2d(1, 16, kernel_size=(3, 3), stride=(1, 1), padding=(2, 2))\n",
              "    (1): BatchNorm2d(16, eps=1e-05, momentum=0.1, affine=True, track_running_stats=True)\n",
              "    (2): ReLU()\n",
              "    (3): MaxPool2d(kernel_size=2, stride=2, padding=0, dilation=1, ceil_mode=False)\n",
              "  )\n",
              "  (layer2): Sequential(\n",
              "    (0): Conv2d(16, 32, kernel_size=(3, 3), stride=(1, 1), padding=(2, 2))\n",
              "    (1): BatchNorm2d(32, eps=1e-05, momentum=0.1, affine=True, track_running_stats=True)\n",
              "    (2): ReLU()\n",
              "    (3): MaxPool2d(kernel_size=2, stride=2, padding=0, dilation=1, ceil_mode=False)\n",
              "  )\n",
              "  (layer3): Sequential(\n",
              "    (0): Conv2d(32, 64, kernel_size=(3, 3), stride=(1, 1), padding=(2, 2))\n",
              "    (1): BatchNorm2d(64, eps=1e-05, momentum=0.1, affine=True, track_running_stats=True)\n",
              "    (2): ReLU()\n",
              "    (3): MaxPool2d(kernel_size=2, stride=2, padding=0, dilation=1, ceil_mode=False)\n",
              "  )\n",
              "  (fc): Linear(in_features=1600, out_features=128, bias=True)\n",
              "  (fc1): Linear(in_features=128, out_features=64, bias=True)\n",
              "  (fc2): Linear(in_features=64, out_features=10, bias=True)\n",
              ")"
            ]
          },
          "metadata": {
            "tags": []
          },
          "execution_count": 21
        }
      ]
    }
  ]
}